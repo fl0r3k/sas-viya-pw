{
 "cells": [
  {
   "cell_type": "markdown",
   "metadata": {},
   "source": [
    "# Ładowanie danych do CAS"
   ]
  },
  {
   "cell_type": "markdown",
   "metadata": {},
   "source": [
    "## Parsowanie danych po stronie klienta i załadowanie do CAS"
   ]
  },
  {
   "cell_type": "code",
   "execution_count": 1,
   "metadata": {},
   "outputs": [],
   "source": [
    "import swat\n",
    "conn = swat.CAS('localhost',5570)"
   ]
  },
  {
   "cell_type": "markdown",
   "metadata": {},
   "source": [
    "W katalogu `dane` znajduje sie plik `iris.csv` o strukturze jak poniżej."
   ]
  },
  {
   "cell_type": "markdown",
   "metadata": {},
   "source": [
    "`\"sepal_length\",\"sepal_width\",\"petal_length\",\"petal_width\",\"variety\"\n",
    "5.1,3.5,1.4,.2,\"Setosa\"\n",
    "4.9,3,1.4,.2,\"Setosa\"\n",
    "4.7,3.2,1.3,.2,\"Setosa\"\n",
    "...\n",
    "6.5,3,5.2,2,\"Virginica\"\n",
    "6.2,3.4,5.4,2.3,\"Virginica\"\n",
    "5.9,3,5.1,1.8,\"Virginica\"`"
   ]
  },
  {
   "cell_type": "markdown",
   "metadata": {},
   "source": [
    "Aby sparsować plik CSV oraz załadować dane do CAS możemy użyć tych samych funkcji co w module `pandas` tj. `read_csv`, `read_table`, `read_excel` itp."
   ]
  },
  {
   "cell_type": "markdown",
   "metadata": {},
   "source": [
    "Kompletna lista obsługiwanych typów plików oraz przykłądy użycia: https://sassoftware.github.io/python-swat/api.html#client-side-files"
   ]
  },
  {
   "cell_type": "code",
   "execution_count": 2,
   "metadata": {},
   "outputs": [
    {
     "name": "stdout",
     "output_type": "stream",
     "text": [
      "NOTE: Cloud Analytic Services made the uploaded file available as table TMP9BILRDX6 in caslib CASUSER(fl0r3k).\n",
      "NOTE: The table TMP9BILRDX6 has been created in caslib CASUSER(fl0r3k) from binary data uploaded to Cloud Analytic Services.\n"
     ]
    },
    {
     "data": {
      "text/plain": [
       "CASTable('TMP9BILRDX6', caslib='CASUSER(fl0r3k)')"
      ]
     },
     "execution_count": 2,
     "metadata": {},
     "output_type": "execute_result"
    }
   ],
   "source": [
    "iris = conn.read_csv('../../dane/iris.csv')\n",
    "iris"
   ]
  },
  {
   "cell_type": "markdown",
   "metadata": {},
   "source": [
    "W wyniku wywołania `read_csv`, plik `iris.csv` został sprasowany i wysłany do serwera CAS. Po stronie serwera, w domyślnej (tzw. aktywnej bibliotece) została utworzona tabela o strukturze jak wskazany plik CSV i wypełniona danymi z tego pliku. Aktywną biblioteką jest `CASUSER(nazwaUzytkownika)`"
   ]
  },
  {
   "cell_type": "markdown",
   "metadata": {},
   "source": [
    "Ponieważ nie podaliśmy nazwy tabeli to serwer przypisał jej losową nazwę. Zwrócony obiekt (`CASTable`) jest tzw. uchwytem do naszej tabeli znajdującej się w pamięci serwera CAS. Nie jest samą tabelą a tylko elementem za pomocą którego możemy operować na tabeli. "
   ]
  },
  {
   "cell_type": "markdown",
   "metadata": {},
   "source": [
    "Mając naszą tabelę w CAS oraz używając uchwytu możemy wywoływać akcje. Część z dostępnych akcji pokrywa się z tymi, które są w module `pandas`."
   ]
  },
  {
   "cell_type": "code",
   "execution_count": 3,
   "metadata": {},
   "outputs": [
    {
     "data": {
      "text/html": [
       "<div class=\"cas-results-key\"><b>&#167; TableInfo</b></div>\n",
       "<div class=\"cas-results-body\">\n",
       "<div>\n",
       "<style scoped>\n",
       "    .dataframe tbody tr th:only-of-type {\n",
       "        vertical-align: middle;\n",
       "    }\n",
       "\n",
       "    .dataframe tbody tr th {\n",
       "        vertical-align: top;\n",
       "    }\n",
       "\n",
       "    .dataframe thead th {\n",
       "        text-align: right;\n",
       "    }\n",
       "</style>\n",
       "<table border=\"1\" class=\"dataframe\">\n",
       "  <thead>\n",
       "    <tr style=\"text-align: right;\">\n",
       "      <th title=\"\"></th>\n",
       "      <th title=\"Name\">Name</th>\n",
       "      <th title=\"Rows\">Rows</th>\n",
       "      <th title=\"Columns\">Columns</th>\n",
       "      <th title=\"Indexed Columns\">IndexedColumns</th>\n",
       "      <th title=\"Encoding\">Encoding</th>\n",
       "      <th title=\"Created\">CreateTimeFormatted</th>\n",
       "      <th title=\"Last Modified\">ModTimeFormatted</th>\n",
       "      <th title=\"Last Accessed\">AccessTimeFormatted</th>\n",
       "      <th title=\"Character Set\">JavaCharSet</th>\n",
       "      <th title=\"CreateTime\">CreateTime</th>\n",
       "      <th title=\"ModTime\">ModTime</th>\n",
       "      <th title=\"AccessTime\">AccessTime</th>\n",
       "      <th title=\"Global\">Global</th>\n",
       "      <th title=\"Repeated\">Repeated</th>\n",
       "      <th title=\"View\">View</th>\n",
       "      <th title=\"Loaded Source\">SourceName</th>\n",
       "      <th title=\"Source Caslib\">SourceCaslib</th>\n",
       "      <th title=\"Compressed\">Compressed</th>\n",
       "      <th title=\"Table Creator\">Creator</th>\n",
       "      <th title=\"Last Table Modifier\">Modifier</th>\n",
       "    </tr>\n",
       "  </thead>\n",
       "  <tbody>\n",
       "    <tr>\n",
       "      <th>0</th>\n",
       "      <td>TMP9BILRDX6</td>\n",
       "      <td>150</td>\n",
       "      <td>5</td>\n",
       "      <td>0</td>\n",
       "      <td>utf-8</td>\n",
       "      <td>03Apr2018:19:30:23</td>\n",
       "      <td>03Apr2018:19:30:23</td>\n",
       "      <td>03Apr2018:19:30:23</td>\n",
       "      <td>UTF8</td>\n",
       "      <td>1.838403e+09</td>\n",
       "      <td>1.838403e+09</td>\n",
       "      <td>1.838403e+09</td>\n",
       "      <td>0</td>\n",
       "      <td>0</td>\n",
       "      <td>0</td>\n",
       "      <td></td>\n",
       "      <td></td>\n",
       "      <td>0</td>\n",
       "      <td>fl0r3k</td>\n",
       "      <td></td>\n",
       "    </tr>\n",
       "  </tbody>\n",
       "</table>\n",
       "</div>\n",
       "</div>\n",
       "<div class=\"cas-output-area\"></div>\n",
       "<p class=\"cas-results-performance\"><small><span class=\"cas-elapsed\">elapsed 0.00451s</span> &#183; <span class=\"cas-user\">user 0.000971s</span> &#183; <span class=\"cas-memory\">mem 0.672MB</span></small></p>"
      ],
      "text/plain": [
       "[TableInfo]\n",
       "\n",
       "           Name  Rows  Columns  IndexedColumns Encoding CreateTimeFormatted  \\\n",
       " 0  TMP9BILRDX6   150        5               0    utf-8  03Apr2018:19:30:23   \n",
       " \n",
       "      ModTimeFormatted AccessTimeFormatted JavaCharSet    CreateTime  \\\n",
       " 0  03Apr2018:19:30:23  03Apr2018:19:30:23        UTF8  1.838403e+09   \n",
       " \n",
       "         ModTime    AccessTime  Global  Repeated  View SourceName SourceCaslib  \\\n",
       " 0  1.838403e+09  1.838403e+09       0         0     0                           \n",
       " \n",
       "    Compressed Creator Modifier  \n",
       " 0           0  fl0r3k           \n",
       "\n",
       "+ Elapsed: 0.00451s, user: 0.000971s, mem: 0.672mb"
      ]
     },
     "execution_count": 3,
     "metadata": {},
     "output_type": "execute_result"
    }
   ],
   "source": [
    "iris.tableInfo()"
   ]
  },
  {
   "cell_type": "code",
   "execution_count": 4,
   "metadata": {},
   "outputs": [
    {
     "data": {
      "text/html": [
       "<div class=\"cas-results-key\"><b>&#167; TableDetails</b></div>\n",
       "<div class=\"cas-results-body\">\n",
       "<div>\n",
       "<style scoped>\n",
       "    .dataframe tbody tr th:only-of-type {\n",
       "        vertical-align: middle;\n",
       "    }\n",
       "\n",
       "    .dataframe tbody tr th {\n",
       "        vertical-align: top;\n",
       "    }\n",
       "\n",
       "    .dataframe thead th {\n",
       "        text-align: right;\n",
       "    }\n",
       "</style>\n",
       "<table border=\"1\" class=\"dataframe\">\n",
       "  <thead>\n",
       "    <tr style=\"text-align: right;\">\n",
       "      <th title=\"\"></th>\n",
       "      <th title=\"Node\">Node</th>\n",
       "      <th title=\"Blocks\">Blocks</th>\n",
       "      <th title=\"Active\">Active</th>\n",
       "      <th title=\"Rows\">Rows</th>\n",
       "      <th title=\"IndexSize\">IndexSize</th>\n",
       "      <th title=\"DataSize\">DataSize</th>\n",
       "      <th title=\"VardataSize\">VardataSize</th>\n",
       "      <th title=\"CompressedSize\">CompressedSize</th>\n",
       "      <th title=\"CompressionRatio\">CompressionRatio</th>\n",
       "      <th title=\"Mapped\">Mapped</th>\n",
       "      <th title=\"MappedMemory\">MappedMemory</th>\n",
       "      <th title=\"Unmapped\">Unmapped</th>\n",
       "      <th title=\"UnmappedMemory\">UnmappedMemory</th>\n",
       "      <th title=\"Allocated\">Allocated</th>\n",
       "      <th title=\"AllocatedMemory\">AllocatedMemory</th>\n",
       "      <th title=\"DeletedRows\">DeletedRows</th>\n",
       "    </tr>\n",
       "  </thead>\n",
       "  <tbody>\n",
       "    <tr>\n",
       "      <th>0</th>\n",
       "      <td>ALL</td>\n",
       "      <td>8</td>\n",
       "      <td>8</td>\n",
       "      <td>150</td>\n",
       "      <td>0</td>\n",
       "      <td>8450</td>\n",
       "      <td>1250</td>\n",
       "      <td>0</td>\n",
       "      <td>0</td>\n",
       "      <td>0</td>\n",
       "      <td>0</td>\n",
       "      <td>0</td>\n",
       "      <td>0</td>\n",
       "      <td>8</td>\n",
       "      <td>8496</td>\n",
       "      <td>0</td>\n",
       "    </tr>\n",
       "  </tbody>\n",
       "</table>\n",
       "</div>\n",
       "</div>\n",
       "<div class=\"cas-output-area\"></div>\n",
       "<p class=\"cas-results-performance\"><small><span class=\"cas-elapsed\">elapsed 0.000381s</span> &#183; <span class=\"cas-user\">user 0.000196s</span> &#183; <span class=\"cas-sys\">sys 0.000175s</span> &#183; <span class=\"cas-memory\">mem 0.668MB</span></small></p>"
      ],
      "text/plain": [
       "[TableDetails]\n",
       "\n",
       "   Node  Blocks  Active  Rows  IndexSize  DataSize  VardataSize  \\\n",
       " 0  ALL       8       8   150          0      8450         1250   \n",
       " \n",
       "    CompressedSize  CompressionRatio  Mapped  MappedMemory  Unmapped  \\\n",
       " 0               0                 0       0             0         0   \n",
       " \n",
       "    UnmappedMemory  Allocated  AllocatedMemory  DeletedRows  \n",
       " 0               0          8             8496            0  \n",
       "\n",
       "+ Elapsed: 0.000381s, user: 0.000196s, sys: 0.000175s, mem: 0.668mb"
      ]
     },
     "execution_count": 4,
     "metadata": {},
     "output_type": "execute_result"
    }
   ],
   "source": [
    "iris.tableDetails()"
   ]
  },
  {
   "cell_type": "code",
   "execution_count": 5,
   "metadata": {},
   "outputs": [
    {
     "data": {
      "text/html": [
       "<div class=\"cas-results-key\"><b>&#167; ColumnInfo</b></div>\n",
       "<div class=\"cas-results-body\">\n",
       "<div>\n",
       "<style scoped>\n",
       "    .dataframe tbody tr th:only-of-type {\n",
       "        vertical-align: middle;\n",
       "    }\n",
       "\n",
       "    .dataframe tbody tr th {\n",
       "        vertical-align: top;\n",
       "    }\n",
       "\n",
       "    .dataframe thead th {\n",
       "        text-align: right;\n",
       "    }\n",
       "</style>\n",
       "<table border=\"1\" class=\"dataframe\">\n",
       "  <thead>\n",
       "    <tr style=\"text-align: right;\">\n",
       "      <th title=\"\"></th>\n",
       "      <th title=\"Column\">Column</th>\n",
       "      <th title=\"ID\">ID</th>\n",
       "      <th title=\"Type\">Type</th>\n",
       "      <th title=\"RawLength\">RawLength</th>\n",
       "      <th title=\"FormattedLength\">FormattedLength</th>\n",
       "      <th title=\"NFL\">NFL</th>\n",
       "      <th title=\"NFD\">NFD</th>\n",
       "    </tr>\n",
       "  </thead>\n",
       "  <tbody>\n",
       "    <tr>\n",
       "      <th>0</th>\n",
       "      <td>sepal_length</td>\n",
       "      <td>1</td>\n",
       "      <td>double</td>\n",
       "      <td>8</td>\n",
       "      <td>12</td>\n",
       "      <td>0</td>\n",
       "      <td>0</td>\n",
       "    </tr>\n",
       "    <tr>\n",
       "      <th>1</th>\n",
       "      <td>sepal_width</td>\n",
       "      <td>2</td>\n",
       "      <td>double</td>\n",
       "      <td>8</td>\n",
       "      <td>12</td>\n",
       "      <td>0</td>\n",
       "      <td>0</td>\n",
       "    </tr>\n",
       "    <tr>\n",
       "      <th>2</th>\n",
       "      <td>petal_length</td>\n",
       "      <td>3</td>\n",
       "      <td>double</td>\n",
       "      <td>8</td>\n",
       "      <td>12</td>\n",
       "      <td>0</td>\n",
       "      <td>0</td>\n",
       "    </tr>\n",
       "    <tr>\n",
       "      <th>3</th>\n",
       "      <td>petal_width</td>\n",
       "      <td>4</td>\n",
       "      <td>double</td>\n",
       "      <td>8</td>\n",
       "      <td>12</td>\n",
       "      <td>0</td>\n",
       "      <td>0</td>\n",
       "    </tr>\n",
       "    <tr>\n",
       "      <th>4</th>\n",
       "      <td>variety</td>\n",
       "      <td>5</td>\n",
       "      <td>varchar</td>\n",
       "      <td>10</td>\n",
       "      <td>10</td>\n",
       "      <td>0</td>\n",
       "      <td>0</td>\n",
       "    </tr>\n",
       "  </tbody>\n",
       "</table>\n",
       "</div>\n",
       "</div>\n",
       "<div class=\"cas-output-area\"></div>\n",
       "<p class=\"cas-results-performance\"><small><span class=\"cas-elapsed\">elapsed 0.00062s</span> &#183; <span class=\"cas-user\">user 0.00059s</span> &#183; <span class=\"cas-memory\">mem 0.698MB</span></small></p>"
      ],
      "text/plain": [
       "[ColumnInfo]\n",
       "\n",
       "          Column  ID     Type  RawLength  FormattedLength  NFL  NFD\n",
       " 0  sepal_length   1   double          8               12    0    0\n",
       " 1   sepal_width   2   double          8               12    0    0\n",
       " 2  petal_length   3   double          8               12    0    0\n",
       " 3   petal_width   4   double          8               12    0    0\n",
       " 4       variety   5  varchar         10               10    0    0\n",
       "\n",
       "+ Elapsed: 0.00062s, user: 0.00059s, mem: 0.698mb"
      ]
     },
     "execution_count": 5,
     "metadata": {},
     "output_type": "execute_result"
    }
   ],
   "source": [
    "iris.columnInfo()"
   ]
  },
  {
   "cell_type": "code",
   "execution_count": 6,
   "metadata": {},
   "outputs": [
    {
     "data": {
      "text/html": [
       "<div>\n",
       "<style scoped>\n",
       "    .dataframe tbody tr th:only-of-type {\n",
       "        vertical-align: middle;\n",
       "    }\n",
       "\n",
       "    .dataframe tbody tr th {\n",
       "        vertical-align: top;\n",
       "    }\n",
       "\n",
       "    .dataframe thead th {\n",
       "        text-align: right;\n",
       "    }\n",
       "</style>\n",
       "<table border=\"1\" class=\"dataframe\"><caption>Selected Rows from Table TMP9BILRDX6</caption>\n",
       "  <thead>\n",
       "    <tr style=\"text-align: right;\">\n",
       "      <th title=\"\"></th>\n",
       "      <th title=\"sepal_length\">sepal_length</th>\n",
       "      <th title=\"sepal_width\">sepal_width</th>\n",
       "      <th title=\"petal_length\">petal_length</th>\n",
       "      <th title=\"petal_width\">petal_width</th>\n",
       "      <th title=\"variety\">variety</th>\n",
       "    </tr>\n",
       "  </thead>\n",
       "  <tbody>\n",
       "    <tr>\n",
       "      <th>0</th>\n",
       "      <td>5.1</td>\n",
       "      <td>3.5</td>\n",
       "      <td>1.4</td>\n",
       "      <td>0.2</td>\n",
       "      <td>Setosa</td>\n",
       "    </tr>\n",
       "    <tr>\n",
       "      <th>1</th>\n",
       "      <td>4.9</td>\n",
       "      <td>3.0</td>\n",
       "      <td>1.4</td>\n",
       "      <td>0.2</td>\n",
       "      <td>Setosa</td>\n",
       "    </tr>\n",
       "    <tr>\n",
       "      <th>2</th>\n",
       "      <td>4.7</td>\n",
       "      <td>3.2</td>\n",
       "      <td>1.3</td>\n",
       "      <td>0.2</td>\n",
       "      <td>Setosa</td>\n",
       "    </tr>\n",
       "    <tr>\n",
       "      <th>3</th>\n",
       "      <td>4.6</td>\n",
       "      <td>3.1</td>\n",
       "      <td>1.5</td>\n",
       "      <td>0.2</td>\n",
       "      <td>Setosa</td>\n",
       "    </tr>\n",
       "    <tr>\n",
       "      <th>4</th>\n",
       "      <td>5.0</td>\n",
       "      <td>3.6</td>\n",
       "      <td>1.4</td>\n",
       "      <td>0.2</td>\n",
       "      <td>Setosa</td>\n",
       "    </tr>\n",
       "  </tbody>\n",
       "</table>\n",
       "</div>"
      ],
      "text/plain": [
       "Selected Rows from Table TMP9BILRDX6\n",
       "\n",
       "   sepal_length  sepal_width  petal_length  petal_width variety\n",
       "0           5.1          3.5           1.4          0.2  Setosa\n",
       "1           4.9          3.0           1.4          0.2  Setosa\n",
       "2           4.7          3.2           1.3          0.2  Setosa\n",
       "3           4.6          3.1           1.5          0.2  Setosa\n",
       "4           5.0          3.6           1.4          0.2  Setosa"
      ]
     },
     "execution_count": 6,
     "metadata": {},
     "output_type": "execute_result"
    }
   ],
   "source": [
    "iris.head()"
   ]
  },
  {
   "cell_type": "code",
   "execution_count": 7,
   "metadata": {},
   "outputs": [
    {
     "data": {
      "text/html": [
       "<div>\n",
       "<style scoped>\n",
       "    .dataframe tbody tr th:only-of-type {\n",
       "        vertical-align: middle;\n",
       "    }\n",
       "\n",
       "    .dataframe tbody tr th {\n",
       "        vertical-align: top;\n",
       "    }\n",
       "\n",
       "    .dataframe thead th {\n",
       "        text-align: right;\n",
       "    }\n",
       "</style>\n",
       "<table border=\"1\" class=\"dataframe\"><caption>Selected Rows from Table TMP9BILRDX6</caption>\n",
       "  <thead>\n",
       "    <tr style=\"text-align: right;\">\n",
       "      <th title=\"\"></th>\n",
       "      <th title=\"sepal_length\">sepal_length</th>\n",
       "      <th title=\"sepal_width\">sepal_width</th>\n",
       "      <th title=\"petal_length\">petal_length</th>\n",
       "      <th title=\"petal_width\">petal_width</th>\n",
       "      <th title=\"variety\">variety</th>\n",
       "    </tr>\n",
       "  </thead>\n",
       "  <tbody>\n",
       "    <tr>\n",
       "      <th>145</th>\n",
       "      <td>5.8</td>\n",
       "      <td>2.7</td>\n",
       "      <td>5.1</td>\n",
       "      <td>1.9</td>\n",
       "      <td>Virginica</td>\n",
       "    </tr>\n",
       "    <tr>\n",
       "      <th>146</th>\n",
       "      <td>6.8</td>\n",
       "      <td>3.2</td>\n",
       "      <td>5.9</td>\n",
       "      <td>2.3</td>\n",
       "      <td>Virginica</td>\n",
       "    </tr>\n",
       "    <tr>\n",
       "      <th>147</th>\n",
       "      <td>6.7</td>\n",
       "      <td>3.3</td>\n",
       "      <td>5.7</td>\n",
       "      <td>2.5</td>\n",
       "      <td>Virginica</td>\n",
       "    </tr>\n",
       "    <tr>\n",
       "      <th>148</th>\n",
       "      <td>6.7</td>\n",
       "      <td>3.0</td>\n",
       "      <td>5.2</td>\n",
       "      <td>2.3</td>\n",
       "      <td>Virginica</td>\n",
       "    </tr>\n",
       "    <tr>\n",
       "      <th>149</th>\n",
       "      <td>6.3</td>\n",
       "      <td>2.5</td>\n",
       "      <td>5.0</td>\n",
       "      <td>1.9</td>\n",
       "      <td>Virginica</td>\n",
       "    </tr>\n",
       "  </tbody>\n",
       "</table>\n",
       "</div>"
      ],
      "text/plain": [
       "Selected Rows from Table TMP9BILRDX6\n",
       "\n",
       "     sepal_length  sepal_width  petal_length  petal_width    variety\n",
       "145           5.8          2.7           5.1          1.9  Virginica\n",
       "146           6.8          3.2           5.9          2.3  Virginica\n",
       "147           6.7          3.3           5.7          2.5  Virginica\n",
       "148           6.7          3.0           5.2          2.3  Virginica\n",
       "149           6.3          2.5           5.0          1.9  Virginica"
      ]
     },
     "execution_count": 7,
     "metadata": {},
     "output_type": "execute_result"
    }
   ],
   "source": [
    "iris.tail()"
   ]
  },
  {
   "cell_type": "code",
   "execution_count": 8,
   "metadata": {},
   "outputs": [
    {
     "data": {
      "text/html": [
       "<div class=\"cas-results-key\"><b>&#167; Summary</b></div>\n",
       "<div class=\"cas-results-body\">\n",
       "<div>\n",
       "<style scoped>\n",
       "    .dataframe tbody tr th:only-of-type {\n",
       "        vertical-align: middle;\n",
       "    }\n",
       "\n",
       "    .dataframe tbody tr th {\n",
       "        vertical-align: top;\n",
       "    }\n",
       "\n",
       "    .dataframe thead th {\n",
       "        text-align: right;\n",
       "    }\n",
       "</style>\n",
       "<table border=\"1\" class=\"dataframe\"><caption>Descriptive Statistics for TMP9BILRDX6</caption>\n",
       "  <thead>\n",
       "    <tr style=\"text-align: right;\">\n",
       "      <th title=\"\"></th>\n",
       "      <th title=\"Analysis Variable\">Column</th>\n",
       "      <th title=\"Minimum\">Min</th>\n",
       "      <th title=\"Maximum\">Max</th>\n",
       "      <th title=\"N\">N</th>\n",
       "      <th title=\"N Miss\">NMiss</th>\n",
       "      <th title=\"Mean\">Mean</th>\n",
       "      <th title=\"Sum\">Sum</th>\n",
       "      <th title=\"Std Dev\">Std</th>\n",
       "      <th title=\"Std Error\">StdErr</th>\n",
       "      <th title=\"Variance\">Var</th>\n",
       "      <th title=\"USS\">USS</th>\n",
       "      <th title=\"Corrected SS\">CSS</th>\n",
       "      <th title=\"Coeff of Variation\">CV</th>\n",
       "      <th title=\"t Value\">TValue</th>\n",
       "      <th title=\"Pr &gt; |t|\">ProbT</th>\n",
       "      <th title=\"Skewness\">Skewness</th>\n",
       "      <th title=\"Kurtosis\">Kurtosis</th>\n",
       "    </tr>\n",
       "  </thead>\n",
       "  <tbody>\n",
       "    <tr>\n",
       "      <th>0</th>\n",
       "      <td>sepal_length</td>\n",
       "      <td>4.3</td>\n",
       "      <td>7.9</td>\n",
       "      <td>150.0</td>\n",
       "      <td>0.0</td>\n",
       "      <td>5.843333</td>\n",
       "      <td>876.5</td>\n",
       "      <td>0.828066</td>\n",
       "      <td>0.067611</td>\n",
       "      <td>0.685694</td>\n",
       "      <td>5223.85</td>\n",
       "      <td>102.168333</td>\n",
       "      <td>14.171126</td>\n",
       "      <td>86.425375</td>\n",
       "      <td>3.331256e-129</td>\n",
       "      <td>0.314911</td>\n",
       "      <td>-0.552064</td>\n",
       "    </tr>\n",
       "    <tr>\n",
       "      <th>1</th>\n",
       "      <td>sepal_width</td>\n",
       "      <td>2.0</td>\n",
       "      <td>4.4</td>\n",
       "      <td>150.0</td>\n",
       "      <td>0.0</td>\n",
       "      <td>3.057333</td>\n",
       "      <td>458.6</td>\n",
       "      <td>0.435866</td>\n",
       "      <td>0.035588</td>\n",
       "      <td>0.189979</td>\n",
       "      <td>1430.40</td>\n",
       "      <td>28.306933</td>\n",
       "      <td>14.256420</td>\n",
       "      <td>85.908304</td>\n",
       "      <td>8.004458e-129</td>\n",
       "      <td>0.318966</td>\n",
       "      <td>0.228249</td>\n",
       "    </tr>\n",
       "    <tr>\n",
       "      <th>2</th>\n",
       "      <td>petal_length</td>\n",
       "      <td>1.0</td>\n",
       "      <td>6.9</td>\n",
       "      <td>150.0</td>\n",
       "      <td>0.0</td>\n",
       "      <td>3.758000</td>\n",
       "      <td>563.7</td>\n",
       "      <td>1.765298</td>\n",
       "      <td>0.144136</td>\n",
       "      <td>3.116278</td>\n",
       "      <td>2582.71</td>\n",
       "      <td>464.325400</td>\n",
       "      <td>46.974407</td>\n",
       "      <td>26.072599</td>\n",
       "      <td>2.166017e-57</td>\n",
       "      <td>-0.274884</td>\n",
       "      <td>-1.402103</td>\n",
       "    </tr>\n",
       "    <tr>\n",
       "      <th>3</th>\n",
       "      <td>petal_width</td>\n",
       "      <td>0.1</td>\n",
       "      <td>2.5</td>\n",
       "      <td>150.0</td>\n",
       "      <td>0.0</td>\n",
       "      <td>1.199333</td>\n",
       "      <td>179.9</td>\n",
       "      <td>0.762238</td>\n",
       "      <td>0.062236</td>\n",
       "      <td>0.581006</td>\n",
       "      <td>302.33</td>\n",
       "      <td>86.569933</td>\n",
       "      <td>63.555114</td>\n",
       "      <td>19.270595</td>\n",
       "      <td>2.659021e-42</td>\n",
       "      <td>-0.102967</td>\n",
       "      <td>-1.340604</td>\n",
       "    </tr>\n",
       "  </tbody>\n",
       "</table>\n",
       "</div>\n",
       "</div>\n",
       "<div class=\"cas-output-area\"></div>\n",
       "<p class=\"cas-results-performance\"><small><span class=\"cas-elapsed\">elapsed 0.00349s</span> &#183; <span class=\"cas-user\">user 0.00137s</span> &#183; <span class=\"cas-sys\">sys 0.00106s</span> &#183; <span class=\"cas-memory\">mem 1.76MB</span></small></p>"
      ],
      "text/plain": [
       "[Summary]\n",
       "\n",
       " Descriptive Statistics for TMP9BILRDX6\n",
       " \n",
       "          Column  Min  Max      N  NMiss      Mean    Sum       Std    StdErr  \\\n",
       " 0  sepal_length  4.3  7.9  150.0    0.0  5.843333  876.5  0.828066  0.067611   \n",
       " 1   sepal_width  2.0  4.4  150.0    0.0  3.057333  458.6  0.435866  0.035588   \n",
       " 2  petal_length  1.0  6.9  150.0    0.0  3.758000  563.7  1.765298  0.144136   \n",
       " 3   petal_width  0.1  2.5  150.0    0.0  1.199333  179.9  0.762238  0.062236   \n",
       " \n",
       "         Var      USS         CSS         CV     TValue          ProbT  \\\n",
       " 0  0.685694  5223.85  102.168333  14.171126  86.425375  3.331256e-129   \n",
       " 1  0.189979  1430.40   28.306933  14.256420  85.908304  8.004458e-129   \n",
       " 2  3.116278  2582.71  464.325400  46.974407  26.072599   2.166017e-57   \n",
       " 3  0.581006   302.33   86.569933  63.555114  19.270595   2.659021e-42   \n",
       " \n",
       "    Skewness  Kurtosis  \n",
       " 0  0.314911 -0.552064  \n",
       " 1  0.318966  0.228249  \n",
       " 2 -0.274884 -1.402103  \n",
       " 3 -0.102967 -1.340604  \n",
       "\n",
       "+ Elapsed: 0.00349s, user: 0.00137s, sys: 0.00106s, mem: 1.76mb"
      ]
     },
     "execution_count": 8,
     "metadata": {},
     "output_type": "execute_result"
    }
   ],
   "source": [
    "iris.summary()"
   ]
  },
  {
   "cell_type": "markdown",
   "metadata": {},
   "source": [
    "Więcej akcji poznamy później."
   ]
  },
  {
   "cell_type": "code",
   "execution_count": 9,
   "metadata": {},
   "outputs": [
    {
     "name": "stdout",
     "output_type": "stream",
     "text": [
      "NOTE: Cloud Analytic Services dropped table TMP9BILRDX6 from caslib CASUSER(fl0r3k).\n"
     ]
    },
    {
     "data": {
      "text/html": [
       "<div class=\"cas-output-area\"></div>\n",
       "<p class=\"cas-results-performance\"><small><span class=\"cas-elapsed\">elapsed 0.00127s</span> &#183; <span class=\"cas-sys\">sys 0.000592s</span> &#183; <span class=\"cas-memory\">mem 0.264MB</span></small></p>"
      ],
      "text/plain": [
       "+ Elapsed: 0.00127s, sys: 0.000592s, mem: 0.264mb"
      ]
     },
     "execution_count": 9,
     "metadata": {},
     "output_type": "execute_result"
    }
   ],
   "source": [
    "iris.dropTable()"
   ]
  },
  {
   "cell_type": "markdown",
   "metadata": {},
   "source": [
    "## Wysłanie danych do serwera CAS i parsowanie po stronie serwera"
   ]
  },
  {
   "cell_type": "markdown",
   "metadata": {},
   "source": [
    "Parsowanie dużego pliku może zająć więcej czasu niż gdybyśmy wysłali go do serwera i pozwolili serwerowi go sparsować."
   ]
  },
  {
   "cell_type": "markdown",
   "metadata": {},
   "source": [
    "Do wysłania pliku na serwer służy funkcja `upload_file()`"
   ]
  },
  {
   "cell_type": "code",
   "execution_count": 10,
   "metadata": {},
   "outputs": [
    {
     "name": "stdout",
     "output_type": "stream",
     "text": [
      "NOTE: Cloud Analytic Services made the uploaded file available as table IRIS in caslib CASUSER(fl0r3k).\n",
      "NOTE: The table IRIS has been created in caslib CASUSER(fl0r3k) from binary data uploaded to Cloud Analytic Services.\n"
     ]
    },
    {
     "data": {
      "text/plain": [
       "CASTable('IRIS', caslib='CASUSER(fl0r3k)')"
      ]
     },
     "execution_count": 10,
     "metadata": {},
     "output_type": "execute_result"
    }
   ],
   "source": [
    "iris = conn.upload_file('../../dane/iris.csv')\n",
    "iris"
   ]
  },
  {
   "cell_type": "markdown",
   "metadata": {},
   "source": [
    "W tym przypadku tabela otrzymała nazwę taką samą jak plik czyli IRIS."
   ]
  },
  {
   "cell_type": "code",
   "execution_count": 11,
   "metadata": {},
   "outputs": [
    {
     "name": "stdout",
     "output_type": "stream",
     "text": [
      "NOTE: Cloud Analytic Services dropped table IRIS from caslib CASUSER(fl0r3k).\n"
     ]
    },
    {
     "data": {
      "text/html": [
       "<div class=\"cas-output-area\"></div>\n",
       "<p class=\"cas-results-performance\"><small><span class=\"cas-elapsed\">elapsed 0.000275s</span> &#183; <span class=\"cas-user\">user 0.000265s</span> &#183; <span class=\"cas-memory\">mem 0.264MB</span></small></p>"
      ],
      "text/plain": [
       "+ Elapsed: 0.000275s, user: 0.000265s, mem: 0.264mb"
      ]
     },
     "execution_count": 11,
     "metadata": {},
     "output_type": "execute_result"
    }
   ],
   "source": [
    "iris.dropTable()"
   ]
  },
  {
   "cell_type": "markdown",
   "metadata": {},
   "source": [
    "## Ładowanie danych bezpośrednio przez serwer CAS"
   ]
  },
  {
   "cell_type": "markdown",
   "metadata": {},
   "source": [
    "Jeżeli dane mamy zapisane na serwerze, w konkretnej bibliotece możemy poprosić serwer CAS aby je nam załadował. W tym przypadku dane znajdują się w mojej bibliotece `CASUSER`."
   ]
  },
  {
   "cell_type": "code",
   "execution_count": 12,
   "metadata": {},
   "outputs": [],
   "source": [
    "iris = conn.load_path('iris.csv')"
   ]
  },
  {
   "cell_type": "code",
   "execution_count": 13,
   "metadata": {},
   "outputs": [
    {
     "data": {
      "text/html": [
       "<div>\n",
       "<style scoped>\n",
       "    .dataframe tbody tr th:only-of-type {\n",
       "        vertical-align: middle;\n",
       "    }\n",
       "\n",
       "    .dataframe tbody tr th {\n",
       "        vertical-align: top;\n",
       "    }\n",
       "\n",
       "    .dataframe thead th {\n",
       "        text-align: right;\n",
       "    }\n",
       "</style>\n",
       "<table border=\"1\" class=\"dataframe\"><caption>Selected Rows from Table IRIS</caption>\n",
       "  <thead>\n",
       "    <tr style=\"text-align: right;\">\n",
       "      <th title=\"\"></th>\n",
       "      <th title=\"sepal_length\">sepal_length</th>\n",
       "      <th title=\"sepal_width\">sepal_width</th>\n",
       "      <th title=\"petal_length\">petal_length</th>\n",
       "      <th title=\"petal_width\">petal_width</th>\n",
       "      <th title=\"variety\">variety</th>\n",
       "    </tr>\n",
       "  </thead>\n",
       "  <tbody>\n",
       "    <tr>\n",
       "      <th>0</th>\n",
       "      <td>5.1</td>\n",
       "      <td>3.5</td>\n",
       "      <td>1.4</td>\n",
       "      <td>0.2</td>\n",
       "      <td>Setosa</td>\n",
       "    </tr>\n",
       "    <tr>\n",
       "      <th>1</th>\n",
       "      <td>4.9</td>\n",
       "      <td>3.0</td>\n",
       "      <td>1.4</td>\n",
       "      <td>0.2</td>\n",
       "      <td>Setosa</td>\n",
       "    </tr>\n",
       "    <tr>\n",
       "      <th>2</th>\n",
       "      <td>4.7</td>\n",
       "      <td>3.2</td>\n",
       "      <td>1.3</td>\n",
       "      <td>0.2</td>\n",
       "      <td>Setosa</td>\n",
       "    </tr>\n",
       "    <tr>\n",
       "      <th>3</th>\n",
       "      <td>4.6</td>\n",
       "      <td>3.1</td>\n",
       "      <td>1.5</td>\n",
       "      <td>0.2</td>\n",
       "      <td>Setosa</td>\n",
       "    </tr>\n",
       "    <tr>\n",
       "      <th>4</th>\n",
       "      <td>5.0</td>\n",
       "      <td>3.6</td>\n",
       "      <td>1.4</td>\n",
       "      <td>0.2</td>\n",
       "      <td>Setosa</td>\n",
       "    </tr>\n",
       "  </tbody>\n",
       "</table>\n",
       "</div>"
      ],
      "text/plain": [
       "Selected Rows from Table IRIS\n",
       "\n",
       "   sepal_length  sepal_width  petal_length  petal_width variety\n",
       "0           5.1          3.5           1.4          0.2  Setosa\n",
       "1           4.9          3.0           1.4          0.2  Setosa\n",
       "2           4.7          3.2           1.3          0.2  Setosa\n",
       "3           4.6          3.1           1.5          0.2  Setosa\n",
       "4           5.0          3.6           1.4          0.2  Setosa"
      ]
     },
     "execution_count": 13,
     "metadata": {},
     "output_type": "execute_result"
    }
   ],
   "source": [
    "iris.head()"
   ]
  },
  {
   "cell_type": "code",
   "execution_count": 14,
   "metadata": {},
   "outputs": [
    {
     "name": "stdout",
     "output_type": "stream",
     "text": [
      "NOTE: Cloud Analytic Services dropped table IRIS from caslib CASUSER(fl0r3k).\n"
     ]
    },
    {
     "data": {
      "text/html": [
       "<div class=\"cas-output-area\"></div>\n",
       "<p class=\"cas-results-performance\"><small><span class=\"cas-elapsed\">elapsed 0.000247s</span> &#183; <span class=\"cas-user\">user 0.000125s</span> &#183; <span class=\"cas-sys\">sys 0.0001s</span> &#183; <span class=\"cas-memory\">mem 0.264MB</span></small></p>"
      ],
      "text/plain": [
       "+ Elapsed: 0.000247s, user: 0.000125s, sys: 0.0001s, mem: 0.264mb"
      ]
     },
     "execution_count": 14,
     "metadata": {},
     "output_type": "execute_result"
    }
   ],
   "source": [
    "iris.dropTable()"
   ]
  },
  {
   "cell_type": "markdown",
   "metadata": {},
   "source": [
    "http://support.sas.com/documentation/onlinedoc/viya/examples.htm"
   ]
  },
  {
   "cell_type": "markdown",
   "metadata": {},
   "source": [
    "Aby wyświetlić wszystkie obecnie załadowane tabele w aktywnej bibliotece należy użyć akcji `tableInfo` z zestawu akcji `table`."
   ]
  },
  {
   "cell_type": "code",
   "execution_count": 15,
   "metadata": {},
   "outputs": [
    {
     "name": "stdout",
     "output_type": "stream",
     "text": [
      "NOTE: No tables are available in caslib CASUSER(fl0r3k) of Cloud Analytic Services.\n"
     ]
    },
    {
     "data": {
      "text/html": [
       "<div class=\"cas-output-area\"></div>\n",
       "<p class=\"cas-results-performance\"><small><span class=\"cas-elapsed\">elapsed 0.000353s</span> &#183; <span class=\"cas-sys\">sys 0.000317s</span> &#183; <span class=\"cas-memory\">mem 0.273MB</span></small></p>"
      ],
      "text/plain": [
       "+ Elapsed: 0.000353s, sys: 0.000317s, mem: 0.273mb"
      ]
     },
     "execution_count": 15,
     "metadata": {},
     "output_type": "execute_result"
    }
   ],
   "source": [
    "conn.table.tableInfo()"
   ]
  },
  {
   "cell_type": "code",
   "execution_count": 16,
   "metadata": {},
   "outputs": [],
   "source": [
    "conn.terminate()"
   ]
  },
  {
   "cell_type": "markdown",
   "metadata": {},
   "source": [
    "## Zadanie 2"
   ]
  },
  {
   "cell_type": "markdown",
   "metadata": {},
   "source": [
    "1\\. Utwórz sesję CAS.\n",
    "\n",
    "2\\. Załąduj plik `cars.csv` zanajdujący się w katalogu za danymi. Użyj parsowania po stronie klienta.\n",
    "\n",
    "3\\. Upewnij się, że dane zostały załadowane popranie i odpowiedz na pytania:\n",
    "\n",
    "a) Jaka jest nazwa biblioteki oraz tabeli po stronie CAS do której załadowane dane.\n",
    "\n",
    "b) Ile jest kolumn i wierszy w tabeli?\n",
    "\n",
    "4\\. Powołaj drugą sesję w CAS.\n",
    "\n",
    "a). Czy załadowana tabela jest widoczna w drugiej sesji?\n",
    "\n",
    "5\\. Załaduj do pamięci CAS ten sam plik co pierwszej sesji. Tym razem użyj parsowania po stronie serwera.\n",
    "\n",
    "6\\. Upewnij się, że dane zostały załadowane popranie.\n",
    "\n",
    "7\\. Usuń załadowane dane a następnie zakończ wszystkie powołane sesje."
   ]
  },
  {
   "cell_type": "markdown",
   "metadata": {},
   "source": [
    "### Rozwiązanie"
   ]
  },
  {
   "cell_type": "code",
   "execution_count": 1,
   "metadata": {},
   "outputs": [],
   "source": [
    "import swat\n",
    "s1 = swat.CAS('localhost',5570)"
   ]
  },
  {
   "cell_type": "code",
   "execution_count": 2,
   "metadata": {},
   "outputs": [
    {
     "name": "stdout",
     "output_type": "stream",
     "text": [
      "NOTE: Cloud Analytic Services made the uploaded file available as table TMPHFWN72_3 in caslib CASUSER(fl0r3k).\n",
      "NOTE: The table TMPHFWN72_3 has been created in caslib CASUSER(fl0r3k) from binary data uploaded to Cloud Analytic Services.\n"
     ]
    },
    {
     "data": {
      "text/plain": [
       "CASTable('TMPHFWN72_3', caslib='CASUSER(fl0r3k)')"
      ]
     },
     "execution_count": 2,
     "metadata": {},
     "output_type": "execute_result"
    }
   ],
   "source": [
    "cars = s1.read_csv('../../dane/cars.csv')\n",
    "cars"
   ]
  },
  {
   "cell_type": "code",
   "execution_count": 3,
   "metadata": {},
   "outputs": [
    {
     "data": {
      "text/html": [
       "<div>\n",
       "<style scoped>\n",
       "    .dataframe tbody tr th:only-of-type {\n",
       "        vertical-align: middle;\n",
       "    }\n",
       "\n",
       "    .dataframe tbody tr th {\n",
       "        vertical-align: top;\n",
       "    }\n",
       "\n",
       "    .dataframe thead th {\n",
       "        text-align: right;\n",
       "    }\n",
       "</style>\n",
       "<table border=\"1\" class=\"dataframe\"><caption>Selected Rows from Table TMPHFWN72_3</caption>\n",
       "  <thead>\n",
       "    <tr style=\"text-align: right;\">\n",
       "      <th title=\"\"></th>\n",
       "      <th title=\"Make\">Make</th>\n",
       "      <th title=\"Model\">Model</th>\n",
       "      <th title=\"Type\">Type</th>\n",
       "      <th title=\"Origin\">Origin</th>\n",
       "      <th title=\"DriveTrain\">DriveTrain</th>\n",
       "      <th title=\"MSRP\">MSRP</th>\n",
       "      <th title=\"Invoice\">Invoice</th>\n",
       "      <th title=\"EngineSize\">EngineSize</th>\n",
       "      <th title=\"Cylinders\">Cylinders</th>\n",
       "      <th title=\"Horsepower\">Horsepower</th>\n",
       "      <th title=\"MPG_City\">MPG_City</th>\n",
       "      <th title=\"MPG_Highway\">MPG_Highway</th>\n",
       "      <th title=\"Weight\">Weight</th>\n",
       "      <th title=\"Wheelbase\">Wheelbase</th>\n",
       "      <th title=\"Length\">Length</th>\n",
       "    </tr>\n",
       "  </thead>\n",
       "  <tbody>\n",
       "    <tr>\n",
       "      <th>0</th>\n",
       "      <td>Acura</td>\n",
       "      <td>MDX</td>\n",
       "      <td>SUV</td>\n",
       "      <td>Asia</td>\n",
       "      <td>All</td>\n",
       "      <td>36945.0</td>\n",
       "      <td>33337.0</td>\n",
       "      <td>3.5</td>\n",
       "      <td>6.0</td>\n",
       "      <td>265.0</td>\n",
       "      <td>17.0</td>\n",
       "      <td>23.0</td>\n",
       "      <td>4451.0</td>\n",
       "      <td>106.0</td>\n",
       "      <td>189.0</td>\n",
       "    </tr>\n",
       "    <tr>\n",
       "      <th>1</th>\n",
       "      <td>Acura</td>\n",
       "      <td>RSX Type S 2dr</td>\n",
       "      <td>Sedan</td>\n",
       "      <td>Asia</td>\n",
       "      <td>Front</td>\n",
       "      <td>23820.0</td>\n",
       "      <td>21761.0</td>\n",
       "      <td>2.0</td>\n",
       "      <td>4.0</td>\n",
       "      <td>200.0</td>\n",
       "      <td>24.0</td>\n",
       "      <td>31.0</td>\n",
       "      <td>2778.0</td>\n",
       "      <td>101.0</td>\n",
       "      <td>172.0</td>\n",
       "    </tr>\n",
       "    <tr>\n",
       "      <th>2</th>\n",
       "      <td>Acura</td>\n",
       "      <td>TSX 4dr</td>\n",
       "      <td>Sedan</td>\n",
       "      <td>Asia</td>\n",
       "      <td>Front</td>\n",
       "      <td>26990.0</td>\n",
       "      <td>24647.0</td>\n",
       "      <td>2.4</td>\n",
       "      <td>4.0</td>\n",
       "      <td>200.0</td>\n",
       "      <td>22.0</td>\n",
       "      <td>29.0</td>\n",
       "      <td>3230.0</td>\n",
       "      <td>105.0</td>\n",
       "      <td>183.0</td>\n",
       "    </tr>\n",
       "    <tr>\n",
       "      <th>3</th>\n",
       "      <td>Acura</td>\n",
       "      <td>TL 4dr</td>\n",
       "      <td>Sedan</td>\n",
       "      <td>Asia</td>\n",
       "      <td>Front</td>\n",
       "      <td>33195.0</td>\n",
       "      <td>30299.0</td>\n",
       "      <td>3.2</td>\n",
       "      <td>6.0</td>\n",
       "      <td>270.0</td>\n",
       "      <td>20.0</td>\n",
       "      <td>28.0</td>\n",
       "      <td>3575.0</td>\n",
       "      <td>108.0</td>\n",
       "      <td>186.0</td>\n",
       "    </tr>\n",
       "    <tr>\n",
       "      <th>4</th>\n",
       "      <td>Acura</td>\n",
       "      <td>3.5 RL 4dr</td>\n",
       "      <td>Sedan</td>\n",
       "      <td>Asia</td>\n",
       "      <td>Front</td>\n",
       "      <td>43755.0</td>\n",
       "      <td>39014.0</td>\n",
       "      <td>3.5</td>\n",
       "      <td>6.0</td>\n",
       "      <td>225.0</td>\n",
       "      <td>18.0</td>\n",
       "      <td>24.0</td>\n",
       "      <td>3880.0</td>\n",
       "      <td>115.0</td>\n",
       "      <td>197.0</td>\n",
       "    </tr>\n",
       "  </tbody>\n",
       "</table>\n",
       "</div>"
      ],
      "text/plain": [
       "Selected Rows from Table TMPHFWN72_3\n",
       "\n",
       "    Make           Model   Type Origin DriveTrain     MSRP  Invoice  \\\n",
       "0  Acura             MDX    SUV   Asia        All  36945.0  33337.0   \n",
       "1  Acura  RSX Type S 2dr  Sedan   Asia      Front  23820.0  21761.0   \n",
       "2  Acura         TSX 4dr  Sedan   Asia      Front  26990.0  24647.0   \n",
       "3  Acura          TL 4dr  Sedan   Asia      Front  33195.0  30299.0   \n",
       "4  Acura      3.5 RL 4dr  Sedan   Asia      Front  43755.0  39014.0   \n",
       "\n",
       "   EngineSize  Cylinders  Horsepower  MPG_City  MPG_Highway  Weight  \\\n",
       "0         3.5        6.0       265.0      17.0         23.0  4451.0   \n",
       "1         2.0        4.0       200.0      24.0         31.0  2778.0   \n",
       "2         2.4        4.0       200.0      22.0         29.0  3230.0   \n",
       "3         3.2        6.0       270.0      20.0         28.0  3575.0   \n",
       "4         3.5        6.0       225.0      18.0         24.0  3880.0   \n",
       "\n",
       "   Wheelbase  Length  \n",
       "0      106.0   189.0  \n",
       "1      101.0   172.0  \n",
       "2      105.0   183.0  \n",
       "3      108.0   186.0  \n",
       "4      115.0   197.0  "
      ]
     },
     "execution_count": 3,
     "metadata": {},
     "output_type": "execute_result"
    }
   ],
   "source": [
    "cars.head()"
   ]
  },
  {
   "cell_type": "code",
   "execution_count": 4,
   "metadata": {},
   "outputs": [
    {
     "data": {
      "text/html": [
       "<div class=\"cas-results-key\"><b>&#167; TableInfo</b></div>\n",
       "<div class=\"cas-results-body\">\n",
       "<div>\n",
       "<style scoped>\n",
       "    .dataframe tbody tr th:only-of-type {\n",
       "        vertical-align: middle;\n",
       "    }\n",
       "\n",
       "    .dataframe tbody tr th {\n",
       "        vertical-align: top;\n",
       "    }\n",
       "\n",
       "    .dataframe thead th {\n",
       "        text-align: right;\n",
       "    }\n",
       "</style>\n",
       "<table border=\"1\" class=\"dataframe\">\n",
       "  <thead>\n",
       "    <tr style=\"text-align: right;\">\n",
       "      <th title=\"\"></th>\n",
       "      <th title=\"Name\">Name</th>\n",
       "      <th title=\"Rows\">Rows</th>\n",
       "      <th title=\"Columns\">Columns</th>\n",
       "      <th title=\"Indexed Columns\">IndexedColumns</th>\n",
       "      <th title=\"Encoding\">Encoding</th>\n",
       "      <th title=\"Created\">CreateTimeFormatted</th>\n",
       "      <th title=\"Last Modified\">ModTimeFormatted</th>\n",
       "      <th title=\"Last Accessed\">AccessTimeFormatted</th>\n",
       "      <th title=\"Character Set\">JavaCharSet</th>\n",
       "      <th title=\"CreateTime\">CreateTime</th>\n",
       "      <th title=\"ModTime\">ModTime</th>\n",
       "      <th title=\"AccessTime\">AccessTime</th>\n",
       "      <th title=\"Global\">Global</th>\n",
       "      <th title=\"Repeated\">Repeated</th>\n",
       "      <th title=\"View\">View</th>\n",
       "      <th title=\"Loaded Source\">SourceName</th>\n",
       "      <th title=\"Source Caslib\">SourceCaslib</th>\n",
       "      <th title=\"Compressed\">Compressed</th>\n",
       "      <th title=\"Table Creator\">Creator</th>\n",
       "      <th title=\"Last Table Modifier\">Modifier</th>\n",
       "    </tr>\n",
       "  </thead>\n",
       "  <tbody>\n",
       "    <tr>\n",
       "      <th>0</th>\n",
       "      <td>TMPHFWN72_3</td>\n",
       "      <td>428</td>\n",
       "      <td>15</td>\n",
       "      <td>0</td>\n",
       "      <td>utf-8</td>\n",
       "      <td>03Apr2018:19:33:08</td>\n",
       "      <td>03Apr2018:19:33:08</td>\n",
       "      <td>03Apr2018:19:33:09</td>\n",
       "      <td>UTF8</td>\n",
       "      <td>1.838403e+09</td>\n",
       "      <td>1.838403e+09</td>\n",
       "      <td>1.838403e+09</td>\n",
       "      <td>0</td>\n",
       "      <td>0</td>\n",
       "      <td>0</td>\n",
       "      <td></td>\n",
       "      <td></td>\n",
       "      <td>0</td>\n",
       "      <td>fl0r3k</td>\n",
       "      <td></td>\n",
       "    </tr>\n",
       "  </tbody>\n",
       "</table>\n",
       "</div>\n",
       "</div>\n",
       "<div class=\"cas-output-area\"></div>\n",
       "<p class=\"cas-results-performance\"><small><span class=\"cas-elapsed\">elapsed 0.000624s</span> &#183; <span class=\"cas-sys\">sys 0.000601s</span> &#183; <span class=\"cas-memory\">mem 0.672MB</span></small></p>"
      ],
      "text/plain": [
       "[TableInfo]\n",
       "\n",
       "           Name  Rows  Columns  IndexedColumns Encoding CreateTimeFormatted  \\\n",
       " 0  TMPHFWN72_3   428       15               0    utf-8  03Apr2018:19:33:08   \n",
       " \n",
       "      ModTimeFormatted AccessTimeFormatted JavaCharSet    CreateTime  \\\n",
       " 0  03Apr2018:19:33:08  03Apr2018:19:33:09        UTF8  1.838403e+09   \n",
       " \n",
       "         ModTime    AccessTime  Global  Repeated  View SourceName SourceCaslib  \\\n",
       " 0  1.838403e+09  1.838403e+09       0         0     0                           \n",
       " \n",
       "    Compressed Creator Modifier  \n",
       " 0           0  fl0r3k           \n",
       "\n",
       "+ Elapsed: 0.000624s, sys: 0.000601s, mem: 0.672mb"
      ]
     },
     "execution_count": 4,
     "metadata": {},
     "output_type": "execute_result"
    }
   ],
   "source": [
    "cars.tableInfo()"
   ]
  },
  {
   "cell_type": "code",
   "execution_count": 5,
   "metadata": {},
   "outputs": [],
   "source": [
    "s2 = swat.CAS('localhost',5570)"
   ]
  },
  {
   "cell_type": "code",
   "execution_count": 6,
   "metadata": {},
   "outputs": [
    {
     "name": "stdout",
     "output_type": "stream",
     "text": [
      "NOTE: No tables are available in caslib CASUSER(fl0r3k) of Cloud Analytic Services.\n"
     ]
    },
    {
     "data": {
      "text/html": [
       "<div class=\"cas-output-area\"></div>\n",
       "<p class=\"cas-results-performance\"><small><span class=\"cas-elapsed\">elapsed 0.000425s</span> &#183; <span class=\"cas-user\">user 0.000177s</span> &#183; <span class=\"cas-sys\">sys 0.00011s</span> &#183; <span class=\"cas-memory\">mem 0.273MB</span></small></p>"
      ],
      "text/plain": [
       "+ Elapsed: 0.000425s, user: 0.000177s, sys: 0.00011s, mem: 0.273mb"
      ]
     },
     "execution_count": 6,
     "metadata": {},
     "output_type": "execute_result"
    }
   ],
   "source": [
    "s2.tableInfo()"
   ]
  },
  {
   "cell_type": "code",
   "execution_count": 8,
   "metadata": {},
   "outputs": [
    {
     "name": "stdout",
     "output_type": "stream",
     "text": [
      "NOTE: Cloud Analytic Services made the uploaded file available as table CARS in caslib CASUSER(fl0r3k).\n",
      "NOTE: The table CARS has been created in caslib CASUSER(fl0r3k) from binary data uploaded to Cloud Analytic Services.\n"
     ]
    },
    {
     "data": {
      "text/plain": [
       "CASTable('CARS', caslib='CASUSER(fl0r3k)')"
      ]
     },
     "execution_count": 8,
     "metadata": {},
     "output_type": "execute_result"
    }
   ],
   "source": [
    "cars = s2.upload_file('../../dane/cars.csv')\n",
    "cars"
   ]
  },
  {
   "cell_type": "code",
   "execution_count": 9,
   "metadata": {},
   "outputs": [
    {
     "data": {
      "text/html": [
       "<div>\n",
       "<style scoped>\n",
       "    .dataframe tbody tr th:only-of-type {\n",
       "        vertical-align: middle;\n",
       "    }\n",
       "\n",
       "    .dataframe tbody tr th {\n",
       "        vertical-align: top;\n",
       "    }\n",
       "\n",
       "    .dataframe thead th {\n",
       "        text-align: right;\n",
       "    }\n",
       "</style>\n",
       "<table border=\"1\" class=\"dataframe\"><caption>Selected Rows from Table CARS</caption>\n",
       "  <thead>\n",
       "    <tr style=\"text-align: right;\">\n",
       "      <th title=\"\"></th>\n",
       "      <th title=\"Make\">Make</th>\n",
       "      <th title=\"Model\">Model</th>\n",
       "      <th title=\"Type\">Type</th>\n",
       "      <th title=\"Origin\">Origin</th>\n",
       "      <th title=\"DriveTrain\">DriveTrain</th>\n",
       "      <th title=\"MSRP\">MSRP</th>\n",
       "      <th title=\"Invoice\">Invoice</th>\n",
       "      <th title=\"EngineSize\">EngineSize</th>\n",
       "      <th title=\"Cylinders\">Cylinders</th>\n",
       "      <th title=\"Horsepower\">Horsepower</th>\n",
       "      <th title=\"MPG_City\">MPG_City</th>\n",
       "      <th title=\"MPG_Highway\">MPG_Highway</th>\n",
       "      <th title=\"Weight\">Weight</th>\n",
       "      <th title=\"Wheelbase\">Wheelbase</th>\n",
       "      <th title=\"Length\">Length</th>\n",
       "    </tr>\n",
       "  </thead>\n",
       "  <tbody>\n",
       "    <tr>\n",
       "      <th>0</th>\n",
       "      <td>Acura</td>\n",
       "      <td>MDX</td>\n",
       "      <td>SUV</td>\n",
       "      <td>Asia</td>\n",
       "      <td>All</td>\n",
       "      <td>36945.0</td>\n",
       "      <td>33337.0</td>\n",
       "      <td>3.5</td>\n",
       "      <td>6.0</td>\n",
       "      <td>265.0</td>\n",
       "      <td>17.0</td>\n",
       "      <td>23.0</td>\n",
       "      <td>4451.0</td>\n",
       "      <td>106.0</td>\n",
       "      <td>189.0</td>\n",
       "    </tr>\n",
       "    <tr>\n",
       "      <th>1</th>\n",
       "      <td>Acura</td>\n",
       "      <td>RSX Type S 2dr</td>\n",
       "      <td>Sedan</td>\n",
       "      <td>Asia</td>\n",
       "      <td>Front</td>\n",
       "      <td>23820.0</td>\n",
       "      <td>21761.0</td>\n",
       "      <td>2.0</td>\n",
       "      <td>4.0</td>\n",
       "      <td>200.0</td>\n",
       "      <td>24.0</td>\n",
       "      <td>31.0</td>\n",
       "      <td>2778.0</td>\n",
       "      <td>101.0</td>\n",
       "      <td>172.0</td>\n",
       "    </tr>\n",
       "    <tr>\n",
       "      <th>2</th>\n",
       "      <td>Acura</td>\n",
       "      <td>TSX 4dr</td>\n",
       "      <td>Sedan</td>\n",
       "      <td>Asia</td>\n",
       "      <td>Front</td>\n",
       "      <td>26990.0</td>\n",
       "      <td>24647.0</td>\n",
       "      <td>2.4</td>\n",
       "      <td>4.0</td>\n",
       "      <td>200.0</td>\n",
       "      <td>22.0</td>\n",
       "      <td>29.0</td>\n",
       "      <td>3230.0</td>\n",
       "      <td>105.0</td>\n",
       "      <td>183.0</td>\n",
       "    </tr>\n",
       "    <tr>\n",
       "      <th>3</th>\n",
       "      <td>Acura</td>\n",
       "      <td>TL 4dr</td>\n",
       "      <td>Sedan</td>\n",
       "      <td>Asia</td>\n",
       "      <td>Front</td>\n",
       "      <td>33195.0</td>\n",
       "      <td>30299.0</td>\n",
       "      <td>3.2</td>\n",
       "      <td>6.0</td>\n",
       "      <td>270.0</td>\n",
       "      <td>20.0</td>\n",
       "      <td>28.0</td>\n",
       "      <td>3575.0</td>\n",
       "      <td>108.0</td>\n",
       "      <td>186.0</td>\n",
       "    </tr>\n",
       "    <tr>\n",
       "      <th>4</th>\n",
       "      <td>Acura</td>\n",
       "      <td>3.5 RL 4dr</td>\n",
       "      <td>Sedan</td>\n",
       "      <td>Asia</td>\n",
       "      <td>Front</td>\n",
       "      <td>43755.0</td>\n",
       "      <td>39014.0</td>\n",
       "      <td>3.5</td>\n",
       "      <td>6.0</td>\n",
       "      <td>225.0</td>\n",
       "      <td>18.0</td>\n",
       "      <td>24.0</td>\n",
       "      <td>3880.0</td>\n",
       "      <td>115.0</td>\n",
       "      <td>197.0</td>\n",
       "    </tr>\n",
       "  </tbody>\n",
       "</table>\n",
       "</div>"
      ],
      "text/plain": [
       "Selected Rows from Table CARS\n",
       "\n",
       "    Make           Model   Type Origin DriveTrain     MSRP  Invoice  \\\n",
       "0  Acura             MDX    SUV   Asia        All  36945.0  33337.0   \n",
       "1  Acura  RSX Type S 2dr  Sedan   Asia      Front  23820.0  21761.0   \n",
       "2  Acura         TSX 4dr  Sedan   Asia      Front  26990.0  24647.0   \n",
       "3  Acura          TL 4dr  Sedan   Asia      Front  33195.0  30299.0   \n",
       "4  Acura      3.5 RL 4dr  Sedan   Asia      Front  43755.0  39014.0   \n",
       "\n",
       "   EngineSize  Cylinders  Horsepower  MPG_City  MPG_Highway  Weight  \\\n",
       "0         3.5        6.0       265.0      17.0         23.0  4451.0   \n",
       "1         2.0        4.0       200.0      24.0         31.0  2778.0   \n",
       "2         2.4        4.0       200.0      22.0         29.0  3230.0   \n",
       "3         3.2        6.0       270.0      20.0         28.0  3575.0   \n",
       "4         3.5        6.0       225.0      18.0         24.0  3880.0   \n",
       "\n",
       "   Wheelbase  Length  \n",
       "0      106.0   189.0  \n",
       "1      101.0   172.0  \n",
       "2      105.0   183.0  \n",
       "3      108.0   186.0  \n",
       "4      115.0   197.0  "
      ]
     },
     "execution_count": 9,
     "metadata": {},
     "output_type": "execute_result"
    }
   ],
   "source": [
    "cars.head()"
   ]
  },
  {
   "cell_type": "code",
   "execution_count": 10,
   "metadata": {},
   "outputs": [
    {
     "name": "stdout",
     "output_type": "stream",
     "text": [
      "NOTE: Cloud Analytic Services dropped table TMPHFWN72_3 from caslib CASUSER(fl0r3k).\n",
      "NOTE: Cloud Analytic Services dropped table CARS from caslib CASUSER(fl0r3k).\n"
     ]
    },
    {
     "data": {
      "text/html": [
       "<div class=\"cas-output-area\"></div>\n",
       "<p class=\"cas-results-performance\"><small><span class=\"cas-elapsed\">elapsed 0.000274s</span> &#183; <span class=\"cas-user\">user 0.000259s</span> &#183; <span class=\"cas-memory\">mem 0.264MB</span></small></p>"
      ],
      "text/plain": [
       "+ Elapsed: 0.000274s, user: 0.000259s, mem: 0.264mb"
      ]
     },
     "execution_count": 10,
     "metadata": {},
     "output_type": "execute_result"
    }
   ],
   "source": [
    "s1.CASTable(name='TMPHFWN72_3').dropTable()\n",
    "s2.CASTable(name='CARS').dropTable()"
   ]
  },
  {
   "cell_type": "code",
   "execution_count": 11,
   "metadata": {},
   "outputs": [],
   "source": [
    "s1.terminate()\n",
    "s2.terminate()"
   ]
  }
 ],
 "metadata": {
  "kernelspec": {
   "display_name": "Python 3",
   "language": "python",
   "name": "python3"
  },
  "language_info": {
   "codemirror_mode": {
    "name": "ipython",
    "version": 3
   },
   "file_extension": ".py",
   "mimetype": "text/x-python",
   "name": "python",
   "nbconvert_exporter": "python",
   "pygments_lexer": "ipython3",
   "version": "3.4.5"
  }
 },
 "nbformat": 4,
 "nbformat_minor": 2
}
