{
 "cells": [
  {
   "cell_type": "markdown",
   "metadata": {},
   "source": [
    "# 1 - Instalacja SWAT i podłączenie do CAS z Python"
   ]
  },
  {
   "cell_type": "markdown",
   "metadata": {},
   "source": [
    "Po zainstalowaniu Python (polecamy [dystrybucję Anaconda od Continuum.io](https://www.continuum.io/downloads)), możesz zainstalować najnowszą wersję SAS SWAT (Scripting Wrapper for Analytics Transfer) z GitHub at https://github.com/sassoftware/python-swat/releases.  Po prostu uruchom `pip install <URL>` gdzie URL wskazuje odpowiednie binaria dla Twojej platformy.\n",
    "Więcej informacji na https://github.com/sassoftware/python-swat."
   ]
  },
  {
   "cell_type": "markdown",
   "metadata": {},
   "source": [
    "## Pierwsze połączenie i test"
   ]
  },
  {
   "cell_type": "code",
   "execution_count": 1,
   "metadata": {},
   "outputs": [],
   "source": [
    "import swat"
   ]
  },
  {
   "cell_type": "code",
   "execution_count": 3,
   "metadata": {},
   "outputs": [],
   "source": [
    "conn = swat.CAS('cas-controller', 5570, 'uzytkownik', 'haslo')"
   ]
  },
  {
   "cell_type": "code",
   "execution_count": 4,
   "metadata": {},
   "outputs": [
    {
     "name": "stdout",
     "output_type": "stream",
     "text": [
      "NOTE: Grid node action status report: 1 nodes, 6 total actions executed.\n"
     ]
    },
    {
     "data": {
      "text/html": [
       "<div class=\"cas-results-key\"><b>&#167; About</b></div>\n",
       "<div class=\"cas-results-body\">\n",
       "<div>{'VersionLong': 'V.03.03M0P11082017', 'CAS': 'Cloud Analytic Services', 'System': {'OS Name': 'Linux', 'OS Version': '#1 SMP Wed Mar 7 19:03:37 UTC 2018', 'OS Release': '3.10.0-693.21.1.el7.x86_64', 'Hostname': 'g751', 'Model Number': 'x86_64', 'OS Family': 'LIN X64'}, 'Copyright': 'Copyright © 2014-2017 SAS Institute Inc. All Rights Reserved.', 'license': {'gracePeriod': 45, 'maxCPUs': 9999, 'site': 'TEST_GPU', 'expires': '22Dec2018:00:00:00', 'siteNum': 70180938, 'warningPeriod': 47}, 'Version': '3.03', 'ServerTime': '2018-04-02T15:26:35Z'}</div>\n",
       "</div>\n",
       "<div class=\"cas-results-key\"><hr/><b>&#167; server</b></div>\n",
       "<div class=\"cas-results-body\">\n",
       "<div>\n",
       "<style scoped>\n",
       "    .dataframe tbody tr th:only-of-type {\n",
       "        vertical-align: middle;\n",
       "    }\n",
       "\n",
       "    .dataframe tbody tr th {\n",
       "        vertical-align: top;\n",
       "    }\n",
       "\n",
       "    .dataframe thead th {\n",
       "        text-align: right;\n",
       "    }\n",
       "</style>\n",
       "<table border=\"1\" class=\"dataframe\"><caption>Server Status</caption>\n",
       "  <thead>\n",
       "    <tr style=\"text-align: right;\">\n",
       "      <th title=\"\"></th>\n",
       "      <th title=\"Node Count\">nodes</th>\n",
       "      <th title=\"Total Actions\">actions</th>\n",
       "    </tr>\n",
       "  </thead>\n",
       "  <tbody>\n",
       "    <tr>\n",
       "      <th>0</th>\n",
       "      <td>1</td>\n",
       "      <td>6</td>\n",
       "    </tr>\n",
       "  </tbody>\n",
       "</table>\n",
       "</div>\n",
       "</div>\n",
       "<div class=\"cas-results-key\"><hr/><b>&#167; nodestatus</b></div>\n",
       "<div class=\"cas-results-body\">\n",
       "<div>\n",
       "<style scoped>\n",
       "    .dataframe tbody tr th:only-of-type {\n",
       "        vertical-align: middle;\n",
       "    }\n",
       "\n",
       "    .dataframe tbody tr th {\n",
       "        vertical-align: top;\n",
       "    }\n",
       "\n",
       "    .dataframe thead th {\n",
       "        text-align: right;\n",
       "    }\n",
       "</style>\n",
       "<table border=\"1\" class=\"dataframe\"><caption>Node Status</caption>\n",
       "  <thead>\n",
       "    <tr style=\"text-align: right;\">\n",
       "      <th title=\"\"></th>\n",
       "      <th title=\"Node Name\">name</th>\n",
       "      <th title=\"Role\">role</th>\n",
       "      <th title=\"Uptime (Sec)\">uptime</th>\n",
       "      <th title=\"Running\">running</th>\n",
       "      <th title=\"Stalled\">stalled</th>\n",
       "    </tr>\n",
       "  </thead>\n",
       "  <tbody>\n",
       "    <tr>\n",
       "      <th>0</th>\n",
       "      <td>g751</td>\n",
       "      <td>controller</td>\n",
       "      <td>5.209</td>\n",
       "      <td>0</td>\n",
       "      <td>0</td>\n",
       "    </tr>\n",
       "  </tbody>\n",
       "</table>\n",
       "</div>\n",
       "</div>\n",
       "<div class=\"cas-output-area\"></div>\n",
       "<p class=\"cas-results-performance\"><small><span class=\"cas-elapsed\">elapsed 0.0117s</span> &#183; <span class=\"cas-user\">user 0.00246s</span> &#183; <span class=\"cas-sys\">sys 0.00236s</span> &#183; <span class=\"cas-memory\">mem 0.376MB</span></small></p>"
      ],
      "text/plain": [
       "[About]\n",
       "\n",
       " {'CAS': 'Cloud Analytic Services',\n",
       "  'Copyright': 'Copyright © 2014-2017 SAS Institute Inc. All Rights Reserved.',\n",
       "  'ServerTime': '2018-04-02T15:26:35Z',\n",
       "  'System': {'Hostname': 'g751',\n",
       "   'Model Number': 'x86_64',\n",
       "   'OS Family': 'LIN X64',\n",
       "   'OS Name': 'Linux',\n",
       "   'OS Release': '3.10.0-693.21.1.el7.x86_64',\n",
       "   'OS Version': '#1 SMP Wed Mar 7 19:03:37 UTC 2018'},\n",
       "  'Version': '3.03',\n",
       "  'VersionLong': 'V.03.03M0P11082017',\n",
       "  'license': {'expires': '22Dec2018:00:00:00',\n",
       "   'gracePeriod': 45,\n",
       "   'maxCPUs': 9999,\n",
       "   'site': 'TEST_GPU',\n",
       "   'siteNum': 70180938,\n",
       "   'warningPeriod': 47}}\n",
       "\n",
       "[server]\n",
       "\n",
       " Server Status\n",
       " \n",
       "    nodes  actions\n",
       " 0      1        6\n",
       "\n",
       "[nodestatus]\n",
       "\n",
       " Node Status\n",
       " \n",
       "    name        role  uptime  running  stalled\n",
       " 0  g751  controller   5.209        0        0\n",
       "\n",
       "+ Elapsed: 0.0117s, user: 0.00246s, sys: 0.00236s, mem: 0.376mb"
      ]
     },
     "execution_count": 4,
     "metadata": {},
     "output_type": "execute_result"
    }
   ],
   "source": [
    "conn.serverStatus()"
   ]
  },
  {
   "cell_type": "code",
   "execution_count": 5,
   "metadata": {},
   "outputs": [
    {
     "data": {
      "text/html": [
       "<div class=\"cas-output-area\"></div>\n",
       "<p class=\"cas-results-performance\"><small><span class=\"cas-elapsed\">elapsed 0.000213s</span> &#183; <span class=\"cas-sys\">sys 0.000193s</span> &#183; <span class=\"cas-memory\">mem 0.194MB</span></small></p>"
      ],
      "text/plain": [
       "+ Elapsed: 0.000213s, sys: 0.000193s, mem: 0.194mb"
      ]
     },
     "execution_count": 5,
     "metadata": {},
     "output_type": "execute_result"
    }
   ],
   "source": [
    "conn.endSession()"
   ]
  }
 ],
 "metadata": {
  "kernelspec": {
   "display_name": "Python 3",
   "language": "python",
   "name": "python3"
  },
  "language_info": {
   "codemirror_mode": {
    "name": "ipython",
    "version": 3
   },
   "file_extension": ".py",
   "mimetype": "text/x-python",
   "name": "python",
   "nbconvert_exporter": "python",
   "pygments_lexer": "ipython3",
   "version": "3.4.5"
  }
 },
 "nbformat": 4,
 "nbformat_minor": 2
}
